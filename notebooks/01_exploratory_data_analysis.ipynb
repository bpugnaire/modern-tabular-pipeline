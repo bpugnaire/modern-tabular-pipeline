{
 "cells": [
  {
   "cell_type": "markdown",
   "metadata": {},
   "source": [
    "# Exploratory Data Analysis - Telco Churn Dataset\n",
    "\n",
    "This notebook explores the telco customer churn dataset through three stages:\n",
    "1. **Raw Data**: Initial data from staging\n",
    "2. **Feature Engineering**: After dbt transformations\n",
    "3. **Insights**: Key patterns and relationships\n",
    "\n",
    "---"
   ]
  },
  {
   "cell_type": "code",
   "execution_count": null,
   "metadata": {},
   "outputs": [],
   "source": [
    "# Standard imports\n",
    "import os\n",
    "import sys\n",
    "from pathlib import Path\n",
    "\n",
    "import matplotlib.pyplot as plt\n",
    "import numpy as np\n",
    "import pandas as pd\n",
    "import plotly.express as px\n",
    "import plotly.graph_objects as go\n",
    "import polars as pl\n",
    "import seaborn as sns\n",
    "from plotly.subplots import make_subplots\n",
    "\n",
    "# Add project root to path\n",
    "sys.path.append(str(Path.cwd().parent))\n",
    "\n",
    "# Configuration\n",
    "sns.set_style('whitegrid')\n",
    "plt.rcParams['figure.figsize'] = (12, 6)\n",
    "\n",
    "# Load environment variables\n",
    "from dotenv import load_dotenv\n",
    "load_dotenv(Path.cwd().parent / '.env')\n",
    "\n",
    "print(\"✓ Imports loaded\")"
   ]
  },
  {
   "cell_type": "markdown",
   "metadata": {},
   "source": [
    "## 1. Load Data\n",
    "\n",
    "We'll load both the raw staging data and the engineered features."
   ]
  },
  {
   "cell_type": "code",
   "execution_count": null,
   "metadata": {},
   "outputs": [],
   "source": [
    "from src.data.loaders import load_features_from_gcs\n",
    "\n",
    "# Load engineered features from GCS\n",
    "df_features = load_features_from_gcs(\n",
    "    \"gs://modern-tabular-dev/data/features/churn_features.parquet\",\n",
    "    os.getenv('GCS_KEY_ID'),\n",
    "    os.getenv('GCS_SECRET'),\n",
    ")\n",
    "\n",
    "# Convert to pandas for visualization\n",
    "df = df_features.to_pandas()\n",
    "\n",
    "print(f\"Dataset shape: {df.shape}\")\n",
    "print(f\"Features: {df.shape[1]} columns\")\n",
    "print(f\"Samples: {df.shape[0]:,} customers\")"
   ]
  },
  {
   "cell_type": "markdown",
   "metadata": {},
   "source": [
    "## 2. Basic Data Overview"
   ]
  },
  {
   "cell_type": "code",
   "execution_count": null,
   "metadata": {},
   "outputs": [],
   "source": [
    "# Display first few rows\n",
    "df.head()"
   ]
  },
  {
   "cell_type": "code",
   "execution_count": null,
   "metadata": {},
   "outputs": [],
   "source": [
    "# Data types and missing values\n",
    "info_df = pd.DataFrame({\n",
    "    'dtype': df.dtypes,\n",
    "    'missing': df.isnull().sum(),\n",
    "    'missing_pct': (df.isnull().sum() / len(df) * 100).round(2),\n",
    "    'unique': df.nunique()\n",
    "})\n",
    "\n",
    "print(\"\\nData Quality Check:\")\n",
    "info_df[info_df['missing'] > 0]  # Show only columns with missing values"
   ]
  },
  {
   "cell_type": "code",
   "execution_count": null,
   "metadata": {},
   "outputs": [],
   "source": [
    "# Summary statistics\n",
    "df.describe()"
   ]
  },
  {
   "cell_type": "markdown",
   "metadata": {},
   "source": [
    "## 3. Target Variable Analysis\n",
    "\n",
    "Understanding the distribution of churn."
   ]
  },
  {
   "cell_type": "code",
   "execution_count": null,
   "metadata": {},
   "outputs": [],
   "source": [
    "# Churn distribution\n",
    "churn_counts = df['has_churned'].value_counts()\n",
    "churn_rate = df['has_churned'].mean()\n",
    "\n",
    "fig = make_subplots(rows=1, cols=2, specs=[[{'type':'bar'}, {'type':'pie'}]])\n",
    "\n",
    "# Bar chart\n",
    "fig.add_trace(\n",
    "    go.Bar(x=['Retained', 'Churned'], y=churn_counts.values, \n",
    "           text=churn_counts.values, textposition='auto'),\n",
    "    row=1, col=1\n",
    ")\n",
    "\n",
    "# Pie chart\n",
    "fig.add_trace(\n",
    "    go.Pie(labels=['Retained', 'Churned'], values=churn_counts.values),\n",
    "    row=1, col=2\n",
    ")\n",
    "\n",
    "fig.update_layout(title_text=f\"Churn Distribution (Rate: {churn_rate:.2%})\", showlegend=False)\n",
    "fig.show()\n",
    "\n",
    "print(f\"\\nChurn Rate: {churn_rate:.2%}\")\n",
    "print(f\"Churned Customers: {churn_counts[True]:,}\")\n",
    "print(f\"Retained Customers: {churn_counts[False]:,}\")"
   ]
  },
  {
   "cell_type": "markdown",
   "metadata": {},
   "source": [
    "## 4. Demographic Analysis"
   ]
  },
  {
   "cell_type": "code",
   "execution_count": null,
   "metadata": {},
   "outputs": [],
   "source": [
    "# Demographics vs Churn\n",
    "demo_features = ['gender', 'is_senior_citizen', 'has_partner', 'has_dependents']\n",
    "\n",
    "fig = make_subplots(rows=2, cols=2, subplot_titles=demo_features)\n",
    "\n",
    "for idx, feature in enumerate(demo_features):\n",
    "    row = idx // 2 + 1\n",
    "    col = idx % 2 + 1\n",
    "    \n",
    "    churn_by_feature = df.groupby(feature)['has_churned'].mean().sort_values(ascending=False)\n",
    "    \n",
    "    fig.add_trace(\n",
    "        go.Bar(x=churn_by_feature.index.astype(str), y=churn_by_feature.values,\n",
    "               text=[f\"{v:.1%}\" for v in churn_by_feature.values], textposition='auto'),\n",
    "        row=row, col=col\n",
    "    )\n",
    "\n",
    "fig.update_layout(height=600, title_text=\"Churn Rate by Demographics\", showlegend=False)\n",
    "fig.update_yaxes(tickformat=\".0%\")\n",
    "fig.show()"
   ]
  },
  {
   "cell_type": "markdown",
   "metadata": {},
   "source": [
    "## 5. Tenure Analysis\n",
    "\n",
    "How customer tenure relates to churn."
   ]
  },
  {
   "cell_type": "code",
   "execution_count": null,
   "metadata": {},
   "outputs": [],
   "source": [
    "# Tenure distribution by churn status\n",
    "fig = px.histogram(df, x='tenure_months', color='has_churned', \n",
    "                   nbins=50, barmode='overlay',\n",
    "                   title='Tenure Distribution by Churn Status',\n",
    "                   labels={'has_churned': 'Churned', 'tenure_months': 'Tenure (months)'})\n",
    "fig.update_traces(opacity=0.7)\n",
    "fig.show()\n",
    "\n",
    "# Tenure group analysis\n",
    "tenure_churn = df.groupby('tenure_group')['has_churned'].agg(['mean', 'count'])\n",
    "print(\"\\nChurn by Tenure Group:\")\n",
    "print(tenure_churn)"
   ]
  },
  {
   "cell_type": "markdown",
   "metadata": {},
   "source": [
    "## 6. Financial Features Analysis"
   ]
  },
  {
   "cell_type": "code",
   "execution_count": null,
   "metadata": {},
   "outputs": [],
   "source": [
    "# Monthly charges distribution\n",
    "fig = px.box(df, x='has_churned', y='monthly_charges', \n",
    "             title='Monthly Charges Distribution by Churn Status',\n",
    "             labels={'has_churned': 'Churned', 'monthly_charges': 'Monthly Charges ($)'})\n",
    "fig.show()\n",
    "\n",
    "# Key stats\n",
    "print(\"\\nMonthly Charges by Churn Status:\")\n",
    "print(df.groupby('has_churned')['monthly_charges'].describe())"
   ]
  },
  {
   "cell_type": "code",
   "execution_count": null,
   "metadata": {},
   "outputs": [],
   "source": [
    "# Charge velocity (rate of price change)\n",
    "fig = px.histogram(df, x='charge_velocity', color='has_churned',\n",
    "                   nbins=50, barmode='overlay',\n",
    "                   title='Charge Velocity Distribution (Price Change Rate)',\n",
    "                   labels={'charge_velocity': 'Charge Velocity ($)', 'has_churned': 'Churned'})\n",
    "fig.update_traces(opacity=0.7)\n",
    "fig.show()"
   ]
  },
  {
   "cell_type": "markdown",
   "metadata": {},
   "source": [
    "## 7. Contract & Billing Analysis"
   ]
  },
  {
   "cell_type": "code",
   "execution_count": null,
   "metadata": {},
   "outputs": [],
   "source": [
    "# Contract type impact\n",
    "contract_analysis = df.groupby('contract_type').agg({\n",
    "    'has_churned': ['mean', 'count'],\n",
    "    'monthly_charges': 'mean',\n",
    "    'tenure_months': 'mean'\n",
    "}).round(2)\n",
    "\n",
    "contract_analysis.columns = ['churn_rate', 'count', 'avg_monthly_charge', 'avg_tenure']\n",
    "contract_analysis['churn_rate'] = contract_analysis['churn_rate'].apply(lambda x: f\"{x:.1%}\")\n",
    "\n",
    "print(\"Contract Type Analysis:\")\n",
    "print(contract_analysis)\n",
    "\n",
    "# Visualization\n",
    "fig = px.bar(df.groupby('contract_type')['has_churned'].mean().sort_values(ascending=False),\n",
    "             title='Churn Rate by Contract Type',\n",
    "             labels={'value': 'Churn Rate', 'contract_type': 'Contract Type'})\n",
    "fig.update_yaxes(tickformat=\".0%\")\n",
    "fig.show()"
   ]
  },
  {
   "cell_type": "markdown",
   "metadata": {},
   "source": [
    "## 8. Service Usage Analysis"
   ]
  },
  {
   "cell_type": "code",
   "execution_count": null,
   "metadata": {},
   "outputs": [],
   "source": [
    "# Internet service type\n",
    "internet_churn = df.groupby('internet_service')['has_churned'].mean().sort_values(ascending=False)\n",
    "\n",
    "fig = px.bar(internet_churn, \n",
    "             title='Churn Rate by Internet Service Type',\n",
    "             labels={'value': 'Churn Rate', 'internet_service': 'Internet Service'})\n",
    "fig.update_yaxes(tickformat=\".0%\")\n",
    "fig.show()\n",
    "\n",
    "print(\"\\nInternet Service Analysis:\")\n",
    "print(df.groupby('internet_service')['has_churned'].agg(['mean', 'count']))"
   ]
  },
  {
   "cell_type": "code",
   "execution_count": null,
   "metadata": {},
   "outputs": [],
   "source": [
    "# Total services subscribed\n",
    "fig = px.box(df, x='total_services_count', y='monthly_charges', color='has_churned',\n",
    "             title='Monthly Charges by Number of Services and Churn Status',\n",
    "             labels={'total_services_count': 'Number of Services', \n",
    "                     'monthly_charges': 'Monthly Charges ($)',\n",
    "                     'has_churned': 'Churned'})\n",
    "fig.show()\n",
    "\n",
    "# Churn by service count\n",
    "services_churn = df.groupby('total_services_count')['has_churned'].mean()\n",
    "print(\"\\nChurn Rate by Number of Services:\")\n",
    "print(services_churn)"
   ]
  },
  {
   "cell_type": "markdown",
   "metadata": {},
   "source": [
    "## 9. Engineered Features Analysis\n",
    "\n",
    "Examining our custom features from dbt transformations."
   ]
  },
  {
   "cell_type": "code",
   "execution_count": null,
   "metadata": {},
   "outputs": [],
   "source": [
    "# Churn risk score distribution\n",
    "fig = px.histogram(df, x='churn_risk_score', color='has_churned',\n",
    "                   nbins=20, barmode='overlay',\n",
    "                   title='Churn Risk Score Distribution',\n",
    "                   labels={'churn_risk_score': 'Churn Risk Score', 'has_churned': 'Churned'})\n",
    "fig.update_traces(opacity=0.7)\n",
    "fig.show()\n",
    "\n",
    "# Risk score effectiveness\n",
    "risk_analysis = df.groupby('churn_risk_score')['has_churned'].mean()\n",
    "print(\"\\nActual Churn Rate by Risk Score:\")\n",
    "print(risk_analysis)"
   ]
  },
  {
   "cell_type": "code",
   "execution_count": null,
   "metadata": {},
   "outputs": [],
   "source": [
    "# Engagement score\n",
    "fig = px.box(df, x='has_churned', y='engagement_score',\n",
    "             title='Engagement Score by Churn Status',\n",
    "             labels={'engagement_score': 'Engagement Score', 'has_churned': 'Churned'})\n",
    "fig.show()\n",
    "\n",
    "print(\"\\nEngagement Score Statistics:\")\n",
    "print(df.groupby('has_churned')['engagement_score'].describe())"
   ]
  },
  {
   "cell_type": "markdown",
   "metadata": {},
   "source": [
    "## 10. Correlation Analysis"
   ]
  },
  {
   "cell_type": "code",
   "execution_count": null,
   "metadata": {},
   "outputs": [],
   "source": [
    "# Select numeric features for correlation\n",
    "numeric_features = df.select_dtypes(include=[np.number]).columns.tolist()\n",
    "numeric_features = [col for col in numeric_features if col != 'customer_id']\n",
    "\n",
    "# Correlation with target\n",
    "correlations = df[numeric_features].corrwith(df['has_churned']).sort_values(ascending=False)\n",
    "\n",
    "fig = px.bar(correlations.drop('has_churned'), \n",
    "             title='Feature Correlation with Churn',\n",
    "             labels={'value': 'Correlation', 'index': 'Feature'})\n",
    "fig.update_layout(showlegend=False)\n",
    "fig.show()\n",
    "\n",
    "print(\"\\nTop 10 Correlations with Churn:\")\n",
    "print(correlations.head(10))"
   ]
  },
  {
   "cell_type": "code",
   "execution_count": null,
   "metadata": {},
   "outputs": [],
   "source": [
    "# Correlation heatmap (top features)\n",
    "top_features = correlations.head(15).index.tolist()\n",
    "corr_matrix = df[top_features].corr()\n",
    "\n",
    "fig = px.imshow(corr_matrix, \n",
    "                text_auto='.2f',\n",
    "                aspect='auto',\n",
    "                title='Correlation Matrix - Top Features',\n",
    "                color_continuous_scale='RdBu_r',\n",
    "                zmin=-1, zmax=1)\n",
    "fig.show()"
   ]
  },
  {
   "cell_type": "markdown",
   "metadata": {},
   "source": [
    "## 11. Key Insights Summary\n",
    "\n",
    "### Main Findings:\n",
    "\n",
    "1. **Churn Rate**: Overall churn rate of ~26.5%\n",
    "\n",
    "2. **Contract Type**: Month-to-month contracts show highest churn risk\n",
    "\n",
    "3. **Tenure**: New customers (< 12 months) have significantly higher churn\n",
    "\n",
    "4. **Services**: Fiber optic customers churn more despite higher revenue\n",
    "\n",
    "5. **Engagement**: Lower service adoption correlates with higher churn\n",
    "\n",
    "6. **Engineered Features**: Risk score shows strong predictive signal\n",
    "\n",
    "### Recommendations:\n",
    "- Focus retention efforts on new customers\n",
    "- Incentivize longer-term contracts\n",
    "- Investigate fiber optic service quality issues\n",
    "- Promote multi-service bundles\n"
   ]
  },
  {
   "cell_type": "code",
   "execution_count": null,
   "metadata": {},
   "outputs": [],
   "source": [
    "# Final summary statistics\n",
    "summary = pd.DataFrame({\n",
    "    'Metric': ['Total Customers', 'Churned Customers', 'Churn Rate', \n",
    "               'Avg Tenure (months)', 'Avg Monthly Charges'],\n",
    "    'Value': [\n",
    "        f\"{len(df):,}\",\n",
    "        f\"{df['has_churned'].sum():,}\",\n",
    "        f\"{df['has_churned'].mean():.2%}\",\n",
    "        f\"{df['tenure_months'].mean():.1f}\",\n",
    "        f\"${df['monthly_charges'].mean():.2f}\"\n",
    "    ]\n",
    "})\n",
    "\n",
    "print(\"\\n\" + \"=\"*50)\n",
    "print(\"DATASET SUMMARY\")\n",
    "print(\"=\"*50)\n",
    "print(summary.to_string(index=False))\n",
    "print(\"=\"*50)"
   ]
  }
 ],
 "metadata": {
  "kernelspec": {
   "display_name": "Python 3",
   "language": "python",
   "name": "python3"
  },
  "language_info": {
   "codemirror_mode": {
    "name": "ipython",
    "version": 3
   },
   "file_extension": ".py",
   "mimetype": "text/x-python",
   "name": "python",
   "nbconvert_exporter": "python",
   "pygments_lexer": "ipython3",
   "version": "3.11.0"
  }
 },
 "nbformat": 4,
 "nbformat_minor": 4
}
